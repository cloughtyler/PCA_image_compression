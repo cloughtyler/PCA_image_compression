








reconstructed_imgs, T_pca, data_proj
